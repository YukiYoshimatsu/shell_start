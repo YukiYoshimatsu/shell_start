{
 "cells": [
  {
   "cell_type": "code",
   "execution_count": null,
   "metadata": {},
   "outputs": [],
   "source": []
  },
  {
   "cell_type": "code",
   "execution_count": 4,
   "metadata": {},
   "outputs": [],
   "source": [
    "from random import randint\n",
    "#sentence correction \n",
    "#creates question objects that possess a question (string), a correct answer (string) and wrong answers (array of strings)\n",
    "class classic_question(object):\n",
    "    question = \"\"\n",
    "    correct = \"\"\n",
    "    wrong = []\n",
    "    #class constructor \n",
    "    def __init__(self, question, correct, wrong):\n",
    "        self.question = question\n",
    "        self.correct = correct\n",
    "        self.wrong = wrong\n",
    "#question list contains all questions        \n",
    "question_list = []\n",
    "\n",
    "def create_classic_question(question, correct, wrong):\n",
    "    question_list = question_list.append(classic_question(question, correct, wrong))\n",
    "    \n",
    "def classic_question pull_random_question():\n",
    "    \n",
    "    \n",
    "\n"
   ]
  },
  {
   "cell_type": "code",
   "execution_count": null,
   "metadata": {},
   "outputs": [],
   "source": [
    "from Tkinter import *"
   ]
  },
  {
   "cell_type": "code",
   "execution_count": null,
   "metadata": {},
   "outputs": [],
   "source": []
  }
 ],
 "metadata": {
  "kernelspec": {
   "display_name": "Python 2",
   "language": "python",
   "name": "python2"
  },
  "language_info": {
   "codemirror_mode": {
    "name": "ipython",
    "version": 2
   },
   "file_extension": ".py",
   "mimetype": "text/x-python",
   "name": "python",
   "nbconvert_exporter": "python",
   "pygments_lexer": "ipython2",
   "version": "2.7.15"
  }
 },
 "nbformat": 4,
 "nbformat_minor": 2
}
